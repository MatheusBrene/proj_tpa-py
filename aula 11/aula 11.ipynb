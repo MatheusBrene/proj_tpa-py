{
 "cells": [
  {
   "cell_type": "markdown",
   "metadata": {},
   "source": [
    "EXERCICIO"
   ]
  },
  {
   "cell_type": "code",
   "execution_count": 17,
   "metadata": {},
   "outputs": [
    {
     "name": "stdout",
     "output_type": "stream",
     "text": [
      "Matheus Adicionado ao caixa normal\n",
      "Joao Adicionado ao caixa rápido\n",
      "Maria Adicionado ao caixa de idosos\n",
      "Joana Adicionado ao caixa normal\n",
      "Guilherme Adicionado ao caixa rápido\n",
      "Enzo Adicionado ao caixa de idosos\n",
      "Gustavo Adicionado ao caixa rápido\n",
      "Felipe Adicionado ao caixa de idosos\n",
      "Leonardo Adicionado ao caixa normal\n",
      "Rodrigo Adicionado ao caixa normal\n",
      "\n",
      "Fila do Caixa Rápido:\n",
      "Nome: Joao, Idade: 9, Unidades: 13\n",
      "Nome: Guilherme, Idade: 12, Unidades: 4\n",
      "Nome: Gustavo, Idade: 18, Unidades: 20\n",
      "\n",
      "Fila do Caixa para Idosos:\n",
      "Nome: Maria, Idade: 65, Unidades: 30\n",
      "Nome: Enzo, Idade: 70, Unidades: 10\n",
      "Nome: Felipe, Idade: 74, Unidades: 15\n",
      "\n",
      "Fila do Caixa para Demais Clientes:\n",
      "Nome: Matheus, Idade: 15, Unidades: 50\n",
      "Nome: Joana, Idade: 25, Unidades: 25\n",
      "Nome: Leonardo, Idade: 27, Unidades: 32\n",
      "Nome: Rodrigo, Idade: 39, Unidades: 41\n"
     ]
    }
   ],
   "source": [
    "class Mercado:\n",
    "    def __init__(self):\n",
    "        self.caixa_rapido = []\n",
    "        self.caixa_idosos = []\n",
    "        self.caixa_demais = []\n",
    "\n",
    "    def adicionar_clientes(self, nome, idade, unidades):\n",
    "        if idade >= 60:\n",
    "            self.caixa_idosos.append((nome, idade, unidades))\n",
    "            print(f\"{nome} Adicionado ao caixa de idosos\")\n",
    "        elif unidades <= 20:\n",
    "            self.caixa_rapido.append((nome, idade, unidades))\n",
    "            print(f\"{nome} Adicionado ao caixa rápido\")\n",
    "        else:\n",
    "            self.caixa_demais.append((nome, idade, unidades))\n",
    "            print(f\"{nome} Adicionado ao caixa normal\")\n",
    "\n",
    "    def mostrar_filas(self):\n",
    "        print(\"\\nFila do Caixa Rápido:\")\n",
    "        for cliente in self.caixa_rapido:\n",
    "            print(f\"Nome: {cliente[0]}, Idade: {cliente[1]}, Unidades: {cliente[2]}\")\n",
    "\n",
    "        print(\"\\nFila do Caixa para Idosos:\")\n",
    "        for cliente in self.caixa_idosos:\n",
    "            print(f\"Nome: {cliente[0]}, Idade: {cliente[1]}, Unidades: {cliente[2]}\")\n",
    "\n",
    "        print(\"\\nFila do Caixa para Demais Clientes:\")\n",
    "        for cliente in self.caixa_demais:\n",
    "            print(f\"Nome: {cliente[0]}, Idade: {cliente[1]}, Unidades: {cliente[2]}\")\n",
    "\n",
    "if __name__ == \"__main__\":\n",
    "    mercado = Mercado()\n",
    "\n",
    "\n",
    "\n",
    "clientes = [\n",
    "    (\"Matheus\", 15, 50),\n",
    "    (\"Joao\", 9, 13),\n",
    "    (\"Maria\", 65, 30),\n",
    "    (\"Joana\", 25, 25),\n",
    "    (\"Guilherme\", 12, 4),\n",
    "    (\"Enzo\", 70, 10),\n",
    "    (\"Gustavo\", 18, 20),\n",
    "    (\"Felipe\", 74, 15),\n",
    "    (\"Leonardo\", 27, 32),\n",
    "    (\"Rodrigo\", 39, 41)\n",
    "]\n",
    "\n",
    "for cliente in clientes:\n",
    "    mercado.adicionar_clientes(cliente[0], cliente[1], cliente[2])\n",
    "\n",
    "mercado.mostrar_filas()"
   ]
  },
  {
   "cell_type": "code",
   "execution_count": null,
   "metadata": {},
   "outputs": [],
   "source": []
  }
 ],
 "metadata": {
  "kernelspec": {
   "display_name": "Python 3",
   "language": "python",
   "name": "python3"
  },
  "language_info": {
   "codemirror_mode": {
    "name": "ipython",
    "version": 3
   },
   "file_extension": ".py",
   "mimetype": "text/x-python",
   "name": "python",
   "nbconvert_exporter": "python",
   "pygments_lexer": "ipython3",
   "version": "3.12.2"
  }
 },
 "nbformat": 4,
 "nbformat_minor": 2
}
